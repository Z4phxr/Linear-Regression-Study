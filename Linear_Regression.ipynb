{
  "nbformat": 4,
  "nbformat_minor": 0,
  "metadata": {
    "colab": {
      "provenance": [],
      "toc_visible": true,
      "authorship_tag": "ABX9TyPa09TFJTME9YtcSQdiC+6i",
      "include_colab_link": true
    },
    "kernelspec": {
      "name": "python3",
      "display_name": "Python 3"
    },
    "language_info": {
      "name": "python"
    }
  },
  "cells": [
    {
      "cell_type": "markdown",
      "metadata": {
        "id": "view-in-github",
        "colab_type": "text"
      },
      "source": [
        "<a href=\"https://colab.research.google.com/github/Z4phxr/Linear-Regression-Study/blob/main/Linear_Regression.ipynb\" target=\"_parent\"><img src=\"https://colab.research.google.com/assets/colab-badge.svg\" alt=\"Open In Colab\"/></a>"
      ]
    },
    {
      "cell_type": "code",
      "execution_count": 85,
      "metadata": {
        "id": "PwiSLDbhmBRS"
      },
      "outputs": [],
      "source": [
        "import pandas as pd\n",
        "import numpy as np\n",
        "import csv\n",
        "import matplotlib.pyplot as plt\n",
        "import sklearn"
      ]
    },
    {
      "cell_type": "markdown",
      "source": [
        "# Testing sklearn linear regression model\n"
      ],
      "metadata": {
        "id": "2l4XilOfbi08"
      }
    },
    {
      "cell_type": "code",
      "source": [
        "x1 = []\n",
        "y = []\n",
        "with open(\"data1.csv\", newline='') as f:\n",
        "    reader = csv.reader(f)\n",
        "    for row in reader:\n",
        "        x1.append(float(row[0]))\n",
        "        y.append(float(row[1]))"
      ],
      "metadata": {
        "id": "5iCOOLfX3GVK"
      },
      "execution_count": 86,
      "outputs": []
    },
    {
      "cell_type": "code",
      "source": [
        "plt.scatter(x1, y)"
      ],
      "metadata": {
        "colab": {
          "base_uri": "https://localhost:8080/",
          "height": 447
        },
        "id": "-qg12EOw4DlC",
        "outputId": "5239bef9-a7be-49d6-9a39-6a33b2030d70"
      },
      "execution_count": 87,
      "outputs": [
        {
          "output_type": "execute_result",
          "data": {
            "text/plain": [
              "<matplotlib.collections.PathCollection at 0x7f771573edd0>"
            ]
          },
          "metadata": {},
          "execution_count": 87
        },
        {
          "output_type": "display_data",
          "data": {
            "text/plain": [
              "<Figure size 640x480 with 1 Axes>"
            ],
            "image/png": "[encoded data removed]"
          },
          "metadata": {}
        }
      ]
    },
    {
      "cell_type": "code",
      "source": [
        "x = [[el] for el in x1]"
      ],
      "metadata": {
        "id": "8fpYzGD9zcV9"
      },
      "execution_count": 88,
      "outputs": []
    },
    {
      "cell_type": "code",
      "source": [
        "X_train, X_test, y_train, y_test = sklearn.model_selection.train_test_split(x, y, random_state=1)"
      ],
      "metadata": {
        "id": "zlIVbkW96_Wi"
      },
      "execution_count": 89,
      "outputs": []
    },
    {
      "cell_type": "code",
      "source": [
        "lr = sklearn.linear_model.LinearRegression().fit(X_train, y_train)"
      ],
      "metadata": {
        "id": "RVwntRfV72O5"
      },
      "execution_count": 90,
      "outputs": []
    },
    {
      "cell_type": "code",
      "source": [
        "lr.score(X_train, y_train)"
      ],
      "metadata": {
        "colab": {
          "base_uri": "https://localhost:8080/"
        },
        "id": "c-cJAVd88cg4",
        "outputId": "24846fee-bbd9-487c-c37d-4d362a8a4057"
      },
      "execution_count": 91,
      "outputs": [
        {
          "output_type": "execute_result",
          "data": {
            "text/plain": [
              "0.8884527429223392"
            ]
          },
          "metadata": {},
          "execution_count": 91
        }
      ]
    },
    {
      "cell_type": "code",
      "source": [
        "lr.score(X_test, y_test)"
      ],
      "metadata": {
        "colab": {
          "base_uri": "https://localhost:8080/"
        },
        "id": "V_XlNxmS8Rmq",
        "outputId": "fd2258ce-c837-48d7-fb02-e57f71d022a5"
      },
      "execution_count": 92,
      "outputs": [
        {
          "output_type": "execute_result",
          "data": {
            "text/plain": [
              "0.7901827914959503"
            ]
          },
          "metadata": {},
          "execution_count": 92
        }
      ]
    },
    {
      "cell_type": "code",
      "source": [
        "plt.scatter(X_train, y_train)\n",
        "plt.scatter(X_test, y_test)\n",
        "\n",
        "a = lr.coef_[0]\n",
        "b = lr.intercept_\n",
        "\n",
        "x_all = np.array(x) if not isinstance(x, np.ndarray) else x\n",
        "\n",
        "x_line = np.linspace(x_all.min(), x_all.max(), 100)\n",
        "y_line = a * x_line + b\n",
        "\n",
        "plt.plot(x_line, y_line, color='red', label=f'y = {a:.2f}x + {b:.2f}')\n",
        "plt.legend()\n",
        "plt.show()\n"
      ],
      "metadata": {
        "colab": {
          "base_uri": "https://localhost:8080/",
          "height": 430
        },
        "id": "y4GXZ_wc8sgS",
        "outputId": "05c1fe2f-6adb-40be-db82-31bb82992a49"
      },
      "execution_count": 93,
      "outputs": [
        {
          "output_type": "display_data",
          "data": {
            "text/plain": [
              "<Figure size 640x480 with 1 Axes>"
            ],
            "image/png": "[encoded data removed]"
          },
          "metadata": {}
        }
      ]
    },
    {
      "cell_type": "markdown",
      "source": [
        "# Building my own linear regression model"
      ],
      "metadata": {
        "id": "xwYHo4SE2eT2"
      }
    },
    {
      "cell_type": "markdown",
      "source": [
        "The model is based on the equation $ y = X \\beta + \\epsilon $, where $ y $ is the target vector, $ X $ is the feature matrix with each row as a data point and columns as features (including a column of ones for the intercept), $ \\beta $ is the vector of coefficients (intercept $ \\beta_0 $ and feature weights $ \\beta_1, \\beta_2, \\dots $), and $ \\epsilon $ is the error term capturing noise or unmodeled factors. The goal is to find $ \\beta $ that minimizes the squared errors."
      ],
      "metadata": {
        "id": "OqTKn5Pu2i61"
      }
    },
    {
      "cell_type": "markdown",
      "source": [
        "We need to calculate the value of the vector **β**, which can be done using the formula:\n",
        "\n",
        "$$\n",
        "\\boldsymbol{\\beta} = (X^T X)^{-1} X^T y\n",
        "$$\n",
        "\n",
        "Construct **X** with shape **(n, m+1)**, where **n** is the number of samples and **m** is the number of features, including a column of ones for the intercept.  \n",
        "\n",
        "To compute **β** using matrix operations:  \n",
        "1. Transpose: **Xᵀ**  \n",
        "2. Matrix product: **Xᵀ X**  \n",
        "3. Inverse: **(Xᵀ X)⁻¹**  \n",
        "4. Final product: **(Xᵀ X)⁻¹ Xᵀ y**  \n",
        "\n",
        "This is done by the **fit** function, which computes and stores the intercept and coefficients.\n"
      ],
      "metadata": {
        "id": "i5PpzVFIRhSp"
      }
    },
    {
      "cell_type": "markdown",
      "source": [
        "The `predict` function takes new input data **X**, adds a column of ones to maintain the same format as during training, and computes predictions using:\n",
        "\n",
        "$$\n",
        "\\hat{y} = X \\boldsymbol{\\beta}\n",
        "$$\n",
        "\n",
        "where **β** is the concatenated vector of the intercept and coefficients, using matrix multiplication (NumPy’s `@` operator).  \n",
        "\n",
        "Evaluate the model with metrics like **Mean Squared Error (MSE)** and **R²** to assess prediction accuracy.  \n",
        "\n",
        "Ensure data quality to avoid issues like a non-invertible \\(X^T X\\), using a pseudo-inverse or gradient descent if needed.\n"
      ],
      "metadata": {
        "id": "XrWl4qYASOk5"
      }
    },
    {
      "cell_type": "markdown",
      "source": [
        "The `score` function in linear regression returns the **R² score**, which shows how well the model explains the variance in the data. It compares prediction errors (**SSE**) to the total variance (**SST**) using:\n",
        "\n",
        "$$\n",
        "R^2 = 1 - \\frac{\\text{SSE}}{\\text{SST}}\n",
        "$$\n",
        "\n",
        "Values near **1** indicate a good fit, **0** means no improvement over predicting the mean, and negative values indicate a poor model.\n"
      ],
      "metadata": {
        "id": "QQH-m3L-YINL"
      }
    },
    {
      "cell_type": "code",
      "source": [
        "class MyLinear_Regression:\n",
        "    def __init__(self):\n",
        "        self.coef_ = None\n",
        "        self.intercept_ = None\n",
        "\n",
        "    def fit(self, X, y):\n",
        "        X = np.array(X)\n",
        "        y = np.array(y)\n",
        "        X_with_intercept = np.hstack([np.ones((X.shape[0], 1)), X])\n",
        "        X_T_X = X_with_intercept.T @ X_with_intercept\n",
        "        X_T_X_inv = np.linalg.inv(X_T_X)\n",
        "        beta = X_T_X_inv @ X_with_intercept.T @ y\n",
        "        self.intercept_ = beta[0]\n",
        "        self.coef_ = beta[1:]\n",
        "\n",
        "    def predict(self, X):\n",
        "        X = np.array(X)\n",
        "        X_with_intercept = np.hstack([np.ones((X.shape[0], 1)), X])\n",
        "        beta = np.concatenate([[self.intercept_], self.coef_])\n",
        "        return X_with_intercept @ beta\n",
        "\n",
        "    def score(self, y_true, y_pred):\n",
        "      y_mean = sum(y_true) / len(y_true)\n",
        "      SST = sum((y - y_mean) ** 2 for y in y_true)\n",
        "      SSE = sum((yt - yp) ** 2 for yt, yp in zip(y_true, y_pred))\n",
        "      R_square = 1 - (SSE / SST)\n",
        "      return float(R_square)\n"
      ],
      "metadata": {
        "id": "nXRQLLn0cfx3"
      },
      "execution_count": 94,
      "outputs": []
    },
    {
      "cell_type": "markdown",
      "source": [
        "# Testing the model I build"
      ],
      "metadata": {
        "id": "saz7t69jUymz"
      }
    },
    {
      "cell_type": "code",
      "source": [
        "lr = MyLinear_Regression()\n",
        "lr.fit(X_train, y_train)"
      ],
      "metadata": {
        "id": "9AWvVvCGTl5r"
      },
      "execution_count": 95,
      "outputs": []
    },
    {
      "cell_type": "code",
      "source": [
        "output = lr.predict(X_test)"
      ],
      "metadata": {
        "id": "Xoj9yyjCTxcD"
      },
      "execution_count": 96,
      "outputs": []
    },
    {
      "cell_type": "code",
      "source": [
        "lr.score(y_test, output)"
      ],
      "metadata": {
        "colab": {
          "base_uri": "https://localhost:8080/"
        },
        "id": "ndsjlfmiX0O2",
        "outputId": "64ae82b9-b2dd-4a5a-a28e-3a873684c3fd"
      },
      "execution_count": 97,
      "outputs": [
        {
          "output_type": "execute_result",
          "data": {
            "text/plain": [
              "0.7901827914959509"
            ]
          },
          "metadata": {},
          "execution_count": 97
        }
      ]
    },
    {
      "cell_type": "code",
      "source": [
        "plt.scatter(X_train, y_train)\n",
        "plt.scatter(X_test, y_test)\n",
        "plt.scatter(X_test, output)\n",
        "\n",
        "a = lr.coef_[0]\n",
        "b = lr.intercept_\n",
        "\n",
        "x_all = np.array(x) if not isinstance(x, np.ndarray) else x\n",
        "\n",
        "x_line = np.linspace(x_all.min(), x_all.max(), 100)\n",
        "y_line = a * x_line + b\n",
        "\n",
        "plt.plot(x_line, y_line, color='green', label=f'y = {a:.2f}x + {b:.2f}')\n",
        "plt.legend()\n",
        "plt.show()\n"
      ],
      "metadata": {
        "colab": {
          "base_uri": "https://localhost:8080/",
          "height": 430
        },
        "id": "rks06JftTuzT",
        "outputId": "dac4c7eb-964a-43c1-dd79-db85c966ccd1"
      },
      "execution_count": 98,
      "outputs": [
        {
          "output_type": "display_data",
          "data": {
            "text/plain": [
              "<Figure size 640x480 with 1 Axes>"
            ],
            "image/png": "[encoded data removed]"
          },
          "metadata": {}
        }
      ]
    },
    {
      "cell_type": "markdown",
      "source": [
        "The blue dots represent the training data, the orange dots represent the test data, and the green dots represent the model’s predictions."
      ],
      "metadata": {
        "id": "ntULTuyGVaSs"
      }
    },
    {
      "cell_type": "markdown",
      "source": [
        "The linear regression model I developed produces the same coefficients and intercept values as the model from the scikit-learn library. This ensures that both models generate identical regression lines, resulting in the same predictions."
      ],
      "metadata": {
        "id": "l8AX1cVlU2Hb"
      }
    }
  ]
}